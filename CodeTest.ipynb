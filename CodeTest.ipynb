n = int(input())

print(f'Is {n} a multiple of 3? {n % 3 == 0}')
print(f'Is {n} a multiple of 5? {n % 5 == 0}')
print(f'Is {n} a multiple of 7? {n % 7 == 0}')


